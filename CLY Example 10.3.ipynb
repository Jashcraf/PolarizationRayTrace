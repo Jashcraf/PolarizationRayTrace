{
 "cells": [
  {
   "cell_type": "code",
   "execution_count": 1,
   "metadata": {},
   "outputs": [],
   "source": [
    "import rays\n",
    "import surface\n",
    "import numpy as np"
   ]
  },
  {
   "cell_type": "code",
   "execution_count": 6,
   "metadata": {},
   "outputs": [],
   "source": [
    "wavelength = 765e-9 #Wavelength in \n",
    "\n",
    "X = [1,0,0]\n",
    "Y = [0,1,0]\n",
    "Z = [0,0,1]\n",
    "\n",
    "\n",
    "mirror1 = surface.plane([0,0,100],[Z,Y,X],100,1/np.sqrt(2)*np.array([0,1,1]))"
   ]
  },
  {
   "cell_type": "code",
   "execution_count": null,
   "metadata": {},
   "outputs": [],
   "source": [
    "ray0_r0 = [0.,7.,100]\n",
    "ray0_k0 = [0,0,-1.]\n",
    "\n",
    "ray0 = rays.Ray(ray0_r0,ray0_k0)"
   ]
  }
 ],
 "metadata": {
  "kernelspec": {
   "display_name": "Python 3",
   "language": "python",
   "name": "python3"
  },
  "language_info": {
   "codemirror_mode": {
    "name": "ipython",
    "version": 3
   },
   "file_extension": ".py",
   "mimetype": "text/x-python",
   "name": "python",
   "nbconvert_exporter": "python",
   "pygments_lexer": "ipython3",
   "version": "3.7.3"
  }
 },
 "nbformat": 4,
 "nbformat_minor": 2
}
